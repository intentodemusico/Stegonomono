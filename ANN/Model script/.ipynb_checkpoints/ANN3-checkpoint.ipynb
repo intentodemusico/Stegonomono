{
 "cells": [
  {
   "cell_type": "code",
   "execution_count": 1,
   "metadata": {},
   "outputs": [],
   "source": [
    "from __future__ import absolute_import, division, print_function, unicode_literals\n",
    "import os\n",
    "import tensorflow as tf"
   ]
  },
  {
   "cell_type": "code",
   "execution_count": 2,
   "metadata": {},
   "outputs": [
    {
     "name": "stdout",
     "output_type": "stream",
     "text": [
      "TensorFlow version: 2.0.0\n",
      "Eager execution: True\n"
     ]
    }
   ],
   "source": [
    "print(\"TensorFlow version: {}\".format(tf.__version__))\n",
    "print(\"Eager execution: {}\".format(tf.executing_eagerly()))\n",
    "#Old dataset\n",
    "#train_dataset_url = \"https://raw.githubusercontent.com/intentodemusico/Stegonomono/master/ANN/Dataset/train_70000.csv\"\n",
    "#test_dataset_url = \"https://raw.githubusercontent.com/intentodemusico/Stegonomono/master/ANN/Dataset/test_70000.csv\"\n",
    "\n",
    "#Old dataset\n",
    "train_dataset_url = \"https://raw.githubusercontent.com/intentodemusico/Stegonomono/master/ANN/NewDataset/Final/train_5000.csv\"\n",
    "test_dataset_url = \"https://raw.githubusercontent.com/intentodemusico/Stegonomono/master/ANN/NewDataset/Final/test_5000.csv\""
   ]
  },
  {
   "cell_type": "code",
   "execution_count": 12,
   "metadata": {},
   "outputs": [
    {
     "name": "stdout",
     "output_type": "stream",
     "text": [
      "(1000, 10)\n",
      "Kurtosis                                      -0.565707\n",
      "Skewness                                       0.901693\n",
      "Std                                             210.988\n",
      "Range                                               753\n",
      "Median                                            174.5\n",
      "Geometric_Mean                                  175.693\n",
      "Mobility                                       0.939137\n",
      "Complexity                                      2.12602\n",
      "IsStego                                               1\n",
      "Location          .\\Testing\\Stego\\test_steg_0.5_500.bmp\n",
      "Name: 999, dtype: object\n"
     ]
    }
   ],
   "source": [
    "import pandas as pd\n",
    "\n",
    "#%% Importing the dataset\n",
    "labels=['Kurtosis', 'Skewness', 'Std', 'Range', 'Median', 'Geometric_Mean', 'Mobility', 'Complexity','IsStego','Location']\n",
    "trainDataset = pd.read_csv(train_dataset_url,header=None,names=labels)\n",
    "X_Train = trainDataset.iloc[:, :-2].values\n",
    "Y_Train = trainDataset.iloc[:, -2].values\n",
    "\n",
    "testDataset = pd.read_csv(test_dataset_url,header=None,names=labels)\n",
    "X_Test = testDataset.iloc[:, :-2].values\n",
    "Y_Test = testDataset.iloc[:, -2].values"
   ]
  },
  {
   "cell_type": "code",
   "execution_count": null,
   "metadata": {},
   "outputs": [],
   "source": [
    "#%% Feature Scaling\n",
    "from sklearn.preprocessing import StandardScaler\n",
    "sc = StandardScaler()\n",
    "X_Train = sc.fit_transform(X_Train)\n",
    "X_Test = sc.transform(X_Test)"
   ]
  },
  {
   "cell_type": "code",
   "execution_count": null,
   "metadata": {},
   "outputs": [],
   "source": [
    "model = tf.keras.Sequential([\n",
    "  tf.keras.layers.Dense(8, activation=tf.nn.relu, input_shape=(8,)),  # input shape required\n",
    "  tf.keras.layers.Dense(4, activation=tf.nn.relu),\n",
    "  tf.keras.layers.Dense(2, activation=tf.nn.relu),\n",
    "  tf.keras.layers.Dense(1, activation=tf.nn.sigmoid)\n",
    "])\n",
    "\n",
    "model.compile(optimizer = 'adam', loss = 'binary_crossentropy', metrics = ['accuracy'])\n",
    "\n",
    "model.fit(X_Train, Y_Train, batch_size = 64, epochs = 250)"
   ]
  },
  {
   "cell_type": "code",
   "execution_count": null,
   "metadata": {},
   "outputs": [],
   "source": [
    "print(model.metrics_names)"
   ]
  },
  {
   "cell_type": "code",
   "execution_count": null,
   "metadata": {},
   "outputs": [],
   "source": [
    "print(model)\n",
    "model.evaluate(X_Train, Y_Train)\n",
    "#%% Predicting the Test set results"
   ]
  },
  {
   "cell_type": "code",
   "execution_count": null,
   "metadata": {},
   "outputs": [],
   "source": [
    "import sklearn.metrics.plot_confusion_matrix\n",
    "class_names=['Stego','Carrier']\n",
    "titles_options = [(\"Confusion matrix, without normalization\", None),\n",
    "                  (\"Normalized confusion matrix\", 'true')]\n",
    "for title, normalize in titles_options:\n",
    "    disp = plot_confusion_matrix(classifier, X_Test, Y_Test,\n",
    "                                 display_labels=class_names,\n",
    "                                 cmap=plt.cm.Blues,\n",
    "                                 normalize=normalize)\n",
    "    disp.ax_.set_title(title)\n",
    "\n",
    "    print(title)\n",
    "    print(disp.confusion_matrix)\n",
    "\n",
    "plt.show()"
   ]
  },
  {
   "cell_type": "code",
   "execution_count": null,
   "metadata": {},
   "outputs": [],
   "source": [
    "y_pred = (model.predict(X_Test) > 0.5)\n",
    "#%% Making the Confusion Matrix\n",
    "from sklearn.metrics import confusion_matrix\n",
    "cm = confusion_matrix(Y_Test, y_pred)\n",
    "cm"
   ]
  },
  {
   "cell_type": "code",
   "execution_count": null,
   "metadata": {},
   "outputs": [],
   "source": [
    "fallas=np.array((labels,dtype='<U256'))\n",
    "\n",
    "import numpy as np\n",
    "for i in range(y_pred):\n",
    "    if(y_pred!=Y_Test>0.5)\n",
    "        fallas=np.vstack((fallas,testDataset[i]))\n",
    "\n",
    "y_pred = (model.predict(X_Train) > 0.5)\n",
    "for i in range(y_pred):\n",
    "    if(y_pred!=Y_Train>0.5)\n",
    "        fallas=np.vstack((fallas,testDataset[i]))\n",
    "\n",
    "asd=\"fallasEval.csv\"\n",
    "np.savetxt(asd,fallas,delimiter=\",\", fmt=\"%s\")"
   ]
  },
  {
   "cell_type": "code",
   "execution_count": null,
   "metadata": {},
   "outputs": [],
   "source": [
    "from keras.models import load_model\n",
    "\n",
    "model.save('my_model.h5')  # creates a HDF5 file 'my_model.h5'\n"
   ]
  },
  {
   "cell_type": "code",
   "execution_count": null,
   "metadata": {},
   "outputs": [],
   "source": [
    "#%% Correlation matrix\n",
    "import sns\n",
    "import sklearn.metrics as metrics\n",
    "labels=['Kurtosis', 'Skewness', 'Std', 'Range', 'Median', 'Geometric_Mean', 'Mobility', 'Complexity']\n",
    "metrics.plot_confusion_matrix(model,X_Test,Y_Test,labels)\n",
    "print(\"Precision\",precision_score(Y_Test, y_pred, average=None))\n",
    "print(\"Accuracy\",accuracy_score(Y_Test, y_pred))\n",
    "print(\"F1\",f1_score(Y_Test, y_pred, average=None))"
   ]
  }
 ],
 "metadata": {
  "kernelspec": {
   "display_name": "Python 3",
   "language": "python",
   "name": "python3"
  },
  "language_info": {
   "codemirror_mode": {
    "name": "ipython",
    "version": 3
   },
   "file_extension": ".py",
   "mimetype": "text/x-python",
   "name": "python",
   "nbconvert_exporter": "python",
   "pygments_lexer": "ipython3",
   "version": "3.6.10"
  }
 },
 "nbformat": 4,
 "nbformat_minor": 4
}
